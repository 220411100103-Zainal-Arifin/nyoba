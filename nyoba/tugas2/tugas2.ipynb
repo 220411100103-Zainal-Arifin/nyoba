{
  "nbformat": 4,
  "nbformat_minor": 0,
  "metadata": {
    "colab": {
      "provenance": []
    },
    "kernelspec": {
      "name": "python3",
      "display_name": "Python 3"
    },
    "language_info": {
      "name": "python"
    }
  },
  "cells": [
    {
      "cell_type": "markdown",
      "source": [
        "# **PPW Crawling Berita**"
      ],
      "metadata": {
        "id": "v3iqs6UHkQjE"
      }
    },
    {
      "cell_type": "markdown",
      "source": [
        "Dibuat Oleh:\n",
        "\n",
        "* Nama : Zainal Arifin\n",
        "* NIM : 220411100103\n",
        "* Kelas : PPW A"
      ],
      "metadata": {
        "id": "0laGoSLJkTm2"
      }
    },
    {
      "cell_type": "markdown",
      "source": [
        "## **Pengertian Crawling**"
      ],
      "metadata": {
        "id": "WoeTG0sOkZmD"
      }
    },
    {
      "cell_type": "markdown",
      "source": [
        "Crawling adalah proses yang digunakan oleh search engine untuk menjelajahi atau merayapi website untuk mendapatkan informasi sebagai respons terhadap kueri yang diberikan. Proses ini dilakukan dengan bantuan bot yang dikenal dengan nama web crawler atau crawler. Crawler adalah mesin pencari bot yang khusus digunakan untuk mencari, mengunjungi, dan menganalisis konten situs web dan informasi lainnya di internet. Crawling data bertujuan untuk mengumpulkan data secara otomatis dari website dan membangun indeks data untuk digunakan mesin pencari."
      ],
      "metadata": {
        "id": "RNb-BrHMkeIq"
      }
    },
    {
      "cell_type": "markdown",
      "source": [
        "### **Proses Crawling**"
      ],
      "metadata": {
        "id": "D1YW8guMkgp8"
      }
    },
    {
      "cell_type": "markdown",
      "source": [
        "**Tool atau Library**"
      ],
      "metadata": {
        "id": "bxmOkQ3Ikn2m"
      }
    },
    {
      "cell_type": "code",
      "source": [
        "!pip install selenium"
      ],
      "metadata": {
        "colab": {
          "base_uri": "https://localhost:8080/"
        },
        "id": "pykwgyEJTseP",
        "outputId": "3b01d42f-3f45-404f-cb53-bad3cf849687"
      },
      "execution_count": null,
      "outputs": [
        {
          "output_type": "stream",
          "name": "stdout",
          "text": [
            "Requirement already satisfied: selenium in /usr/local/lib/python3.10/dist-packages (4.24.0)\n",
            "Requirement already satisfied: urllib3<3,>=1.26 in /usr/local/lib/python3.10/dist-packages (from urllib3[socks]<3,>=1.26->selenium) (2.0.7)\n",
            "Requirement already satisfied: trio~=0.17 in /usr/local/lib/python3.10/dist-packages (from selenium) (0.26.2)\n",
            "Requirement already satisfied: trio-websocket~=0.9 in /usr/local/lib/python3.10/dist-packages (from selenium) (0.11.1)\n",
            "Requirement already satisfied: certifi>=2021.10.8 in /usr/local/lib/python3.10/dist-packages (from selenium) (2024.8.30)\n",
            "Requirement already satisfied: typing_extensions~=4.9 in /usr/local/lib/python3.10/dist-packages (from selenium) (4.12.2)\n",
            "Requirement already satisfied: websocket-client~=1.8 in /usr/local/lib/python3.10/dist-packages (from selenium) (1.8.0)\n",
            "Requirement already satisfied: attrs>=23.2.0 in /usr/local/lib/python3.10/dist-packages (from trio~=0.17->selenium) (24.2.0)\n",
            "Requirement already satisfied: sortedcontainers in /usr/local/lib/python3.10/dist-packages (from trio~=0.17->selenium) (2.4.0)\n",
            "Requirement already satisfied: idna in /usr/local/lib/python3.10/dist-packages (from trio~=0.17->selenium) (3.8)\n",
            "Requirement already satisfied: outcome in /usr/local/lib/python3.10/dist-packages (from trio~=0.17->selenium) (1.3.0.post0)\n",
            "Requirement already satisfied: sniffio>=1.3.0 in /usr/local/lib/python3.10/dist-packages (from trio~=0.17->selenium) (1.3.1)\n",
            "Requirement already satisfied: exceptiongroup in /usr/local/lib/python3.10/dist-packages (from trio~=0.17->selenium) (1.2.2)\n",
            "Requirement already satisfied: wsproto>=0.14 in /usr/local/lib/python3.10/dist-packages (from trio-websocket~=0.9->selenium) (1.2.0)\n",
            "Requirement already satisfied: pysocks!=1.5.7,<2.0,>=1.5.6 in /usr/local/lib/python3.10/dist-packages (from urllib3[socks]<3,>=1.26->selenium) (1.7.1)\n",
            "Requirement already satisfied: h11<1,>=0.9.0 in /usr/local/lib/python3.10/dist-packages (from wsproto>=0.14->trio-websocket~=0.9->selenium) (0.14.0)\n"
          ]
        }
      ]
    },
    {
      "cell_type": "code",
      "source": [
        "import pandas as pd\n",
        "from selenium import webdriver\n",
        "from selenium.webdriver.chrome.options import Options\n",
        "from selenium.webdriver.common.by import By\n",
        "from selenium.webdriver.support.ui import WebDriverWait\n",
        "from selenium.webdriver.support import expected_conditions as EC\n",
        "import time"
      ],
      "metadata": {
        "id": "0dcqavFXqOdd"
      },
      "execution_count": null,
      "outputs": []
    },
    {
      "cell_type": "markdown",
      "source": [
        "* import pandas as pd: Untuk mengelola data dalam tabel.\n",
        "* from selenium import webdriver: Untuk mengontrol browser otomatis.\n",
        "* from selenium.webdriver.chrome.options import Options: Untuk mengatur pengaturan browser Chrome.\n",
        "* from selenium.webdriver.common.by import By: Untuk mencari elemen di halaman web.\n",
        "* from selenium.webdriver.support.ui import WebDriverWait: Untuk menunggu elemen muncul di halaman.\n",
        "* from selenium.webdriver.support import expected_conditions as EC: Untuk memeriksa kondisi di halaman web.\n",
        "* import time: Untuk menambahkan jeda waktu dalam kode."
      ],
      "metadata": {
        "id": "cePwG84sktws"
      }
    },
    {
      "cell_type": "code",
      "source": [
        "def web_driver():\n",
        "    options = Options()\n",
        "    options.add_argument('--headless')\n",
        "    options.add_argument('--no-sandbox')\n",
        "    options.add_argument('--disable-dev-shm-usage')\n",
        "    driver = webdriver.Chrome(options=options)\n",
        "    return driver"
      ],
      "metadata": {
        "id": "gJap4TRzqR1h"
      },
      "execution_count": null,
      "outputs": []
    },
    {
      "cell_type": "markdown",
      "source": [
        "Fungsi web_driver ini menyiapkan browser Chrome untuk berjalan di latar belakang tanpa tampilan grafis, serta mengatasi beberapa potensi masalah yang mungkin muncul pada sistem atau penggunaan memori. Dengan fungsi ini, kamu bisa menjalankan browser Chrome secara otomatis untuk keperluan seperti web scraping atau otomatisasi, tanpa perlu melihat tampilan browser di layar."
      ],
      "metadata": {
        "id": "DejLc7P0mSfs"
      }
    },
    {
      "cell_type": "code",
      "source": [
        "def get_element_text(driver, xpath):\n",
        "    try:\n",
        "        return WebDriverWait(driver, 10).until(\n",
        "            EC.presence_of_element_located((By.XPATH, xpath))\n",
        "        ).text.strip()\n",
        "    except Exception as e:\n",
        "        print(f\"Error finding element with XPath {xpath}: {e}\")\n",
        "        return \"\""
      ],
      "metadata": {
        "id": "yH4Pm-WyqTzH"
      },
      "execution_count": null,
      "outputs": []
    },
    {
      "cell_type": "markdown",
      "source": [
        "Mencari elemen di halaman web berdasarkan XPath, dan jika elemen ditemukan, teksnya akan diambil. Jika terjadi kesalahan, fungsi ini akan menangani kesalahan tersebut dengan mencetak pesan dan mengembalikan string kosong."
      ],
      "metadata": {
        "id": "J7OluFGJmo6C"
      }
    },
    {
      "cell_type": "code",
      "source": [
        "def extract_article_content(driver, article_url):\n",
        "    driver.get(article_url)\n",
        "    WebDriverWait(driver, 10).until(\n",
        "        EC.presence_of_element_located((By.XPATH, '//h1'))\n",
        "    )\n",
        "    title = get_element_text(driver, './/h1')\n",
        "\n",
        "    date = get_element_text(driver, './/p[@class=\"pt-20 date\"]')\n",
        "\n",
        "    content_elements = driver.find_elements(By.XPATH, './/div[@class=\"news-text\"]/p')\n",
        "    content = \" \".join(p.text for p in content_elements)\n",
        "\n",
        "    return {\n",
        "        \"Title\": title,\n",
        "        \"Date\": date,\n",
        "        \"Content\": content\n",
        "    }"
      ],
      "metadata": {
        "id": "VxvSqlt0qWpy"
      },
      "execution_count": null,
      "outputs": []
    },
    {
      "cell_type": "markdown",
      "source": [
        "Membuka halaman Berita, menunggu elemen-elemen penting muncul, dan mengambil teks dari judul, tanggal, dan konten isi, kemudian mengembalikannya dalam format dictionary."
      ],
      "metadata": {
        "id": "xQwih2p2msY8"
      }
    },
    {
      "cell_type": "code",
      "source": [
        "def extract_category_data(driver):\n",
        "    articles = driver.find_elements(By.XPATH, '//div[@class=\"item\"]')\n",
        "    article_urls = [article.find_element(By.XPATH, './/a').get_attribute('href') for article in articles]\n",
        "    return article_urls\n",
        "\n",
        "def scrape_category_page(driver, main_url, category_name, max_articles=50):\n",
        "    all_article_data = []\n",
        "    page_num = 1\n",
        "\n",
        "    while len(all_article_data) < max_articles:\n",
        "        current_url = f\"{main_url}?page={page_num}\"\n",
        "        driver.get(current_url)\n",
        "\n",
        "        article_urls = extract_category_data(driver)\n",
        "\n",
        "        if not article_urls:\n",
        "            print(f\"No more articles found on page {page_num}. Stopping.\")\n",
        "            break\n",
        "\n",
        "        for url in article_urls:\n",
        "            if len(all_article_data) >= max_articles:\n",
        "                break\n",
        "\n",
        "            article_data = extract_article_content(driver, url)\n",
        "            article_data[\"Category\"] = category_name\n",
        "            all_article_data.append(article_data)\n",
        "        page_num += 1\n",
        "        time.sleep(2)\n",
        "\n",
        "    return all_article_data\n",
        "\n",
        "driver = web_driver()\n",
        "\n",
        "kategori_list = [\n",
        "    {\"url\": \"https://www.metrotvnews.com/channel/ekonomi\", \"name\": \"Ekonomi\"},\n",
        "    {\"url\": \"https://www.metrotvnews.com/channel/olahraga\", \"name\": \"Olahraga\"}\n",
        "]\n",
        "\n",
        "all_data = []\n",
        "\n",
        "for category in kategori_list:\n",
        "    print(f\"Scraping category: {category['name']}\")\n",
        "    category_data = scrape_category_page(driver, category[\"url\"], category[\"name\"], max_articles=50)\n",
        "    all_data.extend(category_data)\n",
        "\n",
        "driver.quit()"
      ],
      "metadata": {
        "colab": {
          "base_uri": "https://localhost:8080/"
        },
        "id": "322syAWPqcr3",
        "outputId": "2a850ad6-225a-4098-fd54-ee9bd7cc3c3d"
      },
      "execution_count": null,
      "outputs": [
        {
          "output_type": "stream",
          "name": "stdout",
          "text": [
            "Scraping category: Ekonomi\n",
            "Scraping category: Olahraga\n"
          ]
        }
      ]
    },
    {
      "cell_type": "markdown",
      "source": [
        "Mengakses beberapa halaman kategori berita, mengambil URL berita dari setiap halaman, dan kemudian mengambil konten dari berita-berita tersebut, sambil memastikan untuk tidak melebihi jumlah berita maksimal"
      ],
      "metadata": {
        "id": "rb4tsT2PnLYN"
      }
    },
    {
      "cell_type": "code",
      "source": [
        "df = pd.DataFrame(all_data)\n",
        "df.to_csv('hasil_crawling.csv', index=False)"
      ],
      "metadata": {
        "id": "eE3cyP30qhid"
      },
      "execution_count": null,
      "outputs": []
    },
    {
      "cell_type": "code",
      "source": [
        "df"
      ],
      "metadata": {
        "colab": {
          "base_uri": "https://localhost:8080/",
          "height": 597
        },
        "id": "njDhhQjCsYFQ",
        "outputId": "7c451b7c-5efb-46b7-9d39-25b84bd6977b"
      },
      "execution_count": null,
      "outputs": [
        {
          "output_type": "execute_result",
          "data": {
            "text/plain": [
              "                                                Title  \\\n",
              "0   PalmCo Dukung Cyber Education di Sekolah Remot...   \n",
              "1        Harga Jual Emas Antam Melesat Rp13 Ribu/Gram   \n",
              "2   Terpopuler Ekonomi: Pascamerger Angkasa Pura h...   \n",
              "3   Inflasi dan Debat Presiden AS Bikin Harga Emas...   \n",
              "4   Harga Minyak Mentah Brent Terpental ke USD69,1...   \n",
              "..                                                ...   \n",
              "95  Indonesia Ditunjuk jadi Tuan Rumah World Abili...   \n",
              "96  Menpora Berharap Banyak dengan PON XXI Aceh-Sumut   \n",
              "97  IFG Labuan Bajo Marathon 2024 Siapkan Hadiah R...   \n",
              "98             Hasil Pertandingan UEFA Nations League   \n",
              "99             Ketum Perbasi Danny Kosasih Tutup Usia   \n",
              "\n",
              "                                               Date  \\\n",
              "0   Ade Hapsari Lestarini • 11 September 2024 08:59   \n",
              "1          Arif Wicaksono • 11 September 2024 08:55   \n",
              "2   Ade Hapsari Lestarini • 11 September 2024 08:28   \n",
              "3   Ade Hapsari Lestarini • 11 September 2024 08:12   \n",
              "4   Ade Hapsari Lestarini • 11 September 2024 07:57   \n",
              "..                                              ...   \n",
              "95        Gregorius Gelino • 6 September 2024 12:07   \n",
              "96        Gregorius Gelino • 6 September 2024 11:19   \n",
              "97        Gregorius Gelino • 6 September 2024 10:25   \n",
              "98          Alfa Mandalika • 6 September 2024 09:22   \n",
              "99           Kautsar Halim • 6 September 2024 04:24   \n",
              "\n",
              "                                              Content  Category  \n",
              "0   Jakarta: Sub Holding Perkebunan Nusantara PTPN...   Ekonomi  \n",
              "1   Jakarta: Harga emas batangan PT Aneka Tambang ...   Ekonomi  \n",
              "2   Jakarta: Berita-berita terpopuler ekonomi pada...   Ekonomi  \n",
              "3   Jakarta: Harga emas dunia menguat pada sesi pe...   Ekonomi  \n",
              "4   New York: Harga minyak mentah dunia terpantau ...   Ekonomi  \n",
              "..                                                ...       ...  \n",
              "95  Paris: Menteri Pemuda dan Olahraga Republik In...  Olahraga  \n",
              "96  Jakarta: Menteri Pemuda dan Olahraga Republik ...  Olahraga  \n",
              "97  Labuan Bajo: Pendaftaran IFG Labuan Bajo Marat...  Olahraga  \n",
              "98  Jakarta: Sejumlah negara melakoni laga UEFA Na...  Olahraga  \n",
              "99  Jakarta: Dunia bola basket Tanah Air tengah be...  Olahraga  \n",
              "\n",
              "[100 rows x 4 columns]"
            ],
            "text/html": [
              "\n",
              "  <div id=\"df-71838c9f-658e-445c-afe9-4d3e283e70fa\" class=\"colab-df-container\">\n",
              "    <div>\n",
              "<style scoped>\n",
              "    .dataframe tbody tr th:only-of-type {\n",
              "        vertical-align: middle;\n",
              "    }\n",
              "\n",
              "    .dataframe tbody tr th {\n",
              "        vertical-align: top;\n",
              "    }\n",
              "\n",
              "    .dataframe thead th {\n",
              "        text-align: right;\n",
              "    }\n",
              "</style>\n",
              "<table border=\"1\" class=\"dataframe\">\n",
              "  <thead>\n",
              "    <tr style=\"text-align: right;\">\n",
              "      <th></th>\n",
              "      <th>Title</th>\n",
              "      <th>Date</th>\n",
              "      <th>Content</th>\n",
              "      <th>Category</th>\n",
              "    </tr>\n",
              "  </thead>\n",
              "  <tbody>\n",
              "    <tr>\n",
              "      <th>0</th>\n",
              "      <td>PalmCo Dukung Cyber Education di Sekolah Remot...</td>\n",
              "      <td>Ade Hapsari Lestarini • 11 September 2024 08:59</td>\n",
              "      <td>Jakarta: Sub Holding Perkebunan Nusantara PTPN...</td>\n",
              "      <td>Ekonomi</td>\n",
              "    </tr>\n",
              "    <tr>\n",
              "      <th>1</th>\n",
              "      <td>Harga Jual Emas Antam Melesat Rp13 Ribu/Gram</td>\n",
              "      <td>Arif Wicaksono • 11 September 2024 08:55</td>\n",
              "      <td>Jakarta: Harga emas batangan PT Aneka Tambang ...</td>\n",
              "      <td>Ekonomi</td>\n",
              "    </tr>\n",
              "    <tr>\n",
              "      <th>2</th>\n",
              "      <td>Terpopuler Ekonomi: Pascamerger Angkasa Pura h...</td>\n",
              "      <td>Ade Hapsari Lestarini • 11 September 2024 08:28</td>\n",
              "      <td>Jakarta: Berita-berita terpopuler ekonomi pada...</td>\n",
              "      <td>Ekonomi</td>\n",
              "    </tr>\n",
              "    <tr>\n",
              "      <th>3</th>\n",
              "      <td>Inflasi dan Debat Presiden AS Bikin Harga Emas...</td>\n",
              "      <td>Ade Hapsari Lestarini • 11 September 2024 08:12</td>\n",
              "      <td>Jakarta: Harga emas dunia menguat pada sesi pe...</td>\n",
              "      <td>Ekonomi</td>\n",
              "    </tr>\n",
              "    <tr>\n",
              "      <th>4</th>\n",
              "      <td>Harga Minyak Mentah Brent Terpental ke USD69,1...</td>\n",
              "      <td>Ade Hapsari Lestarini • 11 September 2024 07:57</td>\n",
              "      <td>New York: Harga minyak mentah dunia terpantau ...</td>\n",
              "      <td>Ekonomi</td>\n",
              "    </tr>\n",
              "    <tr>\n",
              "      <th>...</th>\n",
              "      <td>...</td>\n",
              "      <td>...</td>\n",
              "      <td>...</td>\n",
              "      <td>...</td>\n",
              "    </tr>\n",
              "    <tr>\n",
              "      <th>95</th>\n",
              "      <td>Indonesia Ditunjuk jadi Tuan Rumah World Abili...</td>\n",
              "      <td>Gregorius Gelino • 6 September 2024 12:07</td>\n",
              "      <td>Paris: Menteri Pemuda dan Olahraga Republik In...</td>\n",
              "      <td>Olahraga</td>\n",
              "    </tr>\n",
              "    <tr>\n",
              "      <th>96</th>\n",
              "      <td>Menpora Berharap Banyak dengan PON XXI Aceh-Sumut</td>\n",
              "      <td>Gregorius Gelino • 6 September 2024 11:19</td>\n",
              "      <td>Jakarta: Menteri Pemuda dan Olahraga Republik ...</td>\n",
              "      <td>Olahraga</td>\n",
              "    </tr>\n",
              "    <tr>\n",
              "      <th>97</th>\n",
              "      <td>IFG Labuan Bajo Marathon 2024 Siapkan Hadiah R...</td>\n",
              "      <td>Gregorius Gelino • 6 September 2024 10:25</td>\n",
              "      <td>Labuan Bajo: Pendaftaran IFG Labuan Bajo Marat...</td>\n",
              "      <td>Olahraga</td>\n",
              "    </tr>\n",
              "    <tr>\n",
              "      <th>98</th>\n",
              "      <td>Hasil Pertandingan UEFA Nations League</td>\n",
              "      <td>Alfa Mandalika • 6 September 2024 09:22</td>\n",
              "      <td>Jakarta: Sejumlah negara melakoni laga UEFA Na...</td>\n",
              "      <td>Olahraga</td>\n",
              "    </tr>\n",
              "    <tr>\n",
              "      <th>99</th>\n",
              "      <td>Ketum Perbasi Danny Kosasih Tutup Usia</td>\n",
              "      <td>Kautsar Halim • 6 September 2024 04:24</td>\n",
              "      <td>Jakarta: Dunia bola basket Tanah Air tengah be...</td>\n",
              "      <td>Olahraga</td>\n",
              "    </tr>\n",
              "  </tbody>\n",
              "</table>\n",
              "<p>100 rows × 4 columns</p>\n",
              "</div>\n",
              "    <div class=\"colab-df-buttons\">\n",
              "\n",
              "  <div class=\"colab-df-container\">\n",
              "    <button class=\"colab-df-convert\" onclick=\"convertToInteractive('df-71838c9f-658e-445c-afe9-4d3e283e70fa')\"\n",
              "            title=\"Convert this dataframe to an interactive table.\"\n",
              "            style=\"display:none;\">\n",
              "\n",
              "  <svg xmlns=\"http://www.w3.org/2000/svg\" height=\"24px\" viewBox=\"0 -960 960 960\">\n",
              "    <path d=\"M120-120v-720h720v720H120Zm60-500h600v-160H180v160Zm220 220h160v-160H400v160Zm0 220h160v-160H400v160ZM180-400h160v-160H180v160Zm440 0h160v-160H620v160ZM180-180h160v-160H180v160Zm440 0h160v-160H620v160Z\"/>\n",
              "  </svg>\n",
              "    </button>\n",
              "\n",
              "  <style>\n",
              "    .colab-df-container {\n",
              "      display:flex;\n",
              "      gap: 12px;\n",
              "    }\n",
              "\n",
              "    .colab-df-convert {\n",
              "      background-color: #E8F0FE;\n",
              "      border: none;\n",
              "      border-radius: 50%;\n",
              "      cursor: pointer;\n",
              "      display: none;\n",
              "      fill: #1967D2;\n",
              "      height: 32px;\n",
              "      padding: 0 0 0 0;\n",
              "      width: 32px;\n",
              "    }\n",
              "\n",
              "    .colab-df-convert:hover {\n",
              "      background-color: #E2EBFA;\n",
              "      box-shadow: 0px 1px 2px rgba(60, 64, 67, 0.3), 0px 1px 3px 1px rgba(60, 64, 67, 0.15);\n",
              "      fill: #174EA6;\n",
              "    }\n",
              "\n",
              "    .colab-df-buttons div {\n",
              "      margin-bottom: 4px;\n",
              "    }\n",
              "\n",
              "    [theme=dark] .colab-df-convert {\n",
              "      background-color: #3B4455;\n",
              "      fill: #D2E3FC;\n",
              "    }\n",
              "\n",
              "    [theme=dark] .colab-df-convert:hover {\n",
              "      background-color: #434B5C;\n",
              "      box-shadow: 0px 1px 3px 1px rgba(0, 0, 0, 0.15);\n",
              "      filter: drop-shadow(0px 1px 2px rgba(0, 0, 0, 0.3));\n",
              "      fill: #FFFFFF;\n",
              "    }\n",
              "  </style>\n",
              "\n",
              "    <script>\n",
              "      const buttonEl =\n",
              "        document.querySelector('#df-71838c9f-658e-445c-afe9-4d3e283e70fa button.colab-df-convert');\n",
              "      buttonEl.style.display =\n",
              "        google.colab.kernel.accessAllowed ? 'block' : 'none';\n",
              "\n",
              "      async function convertToInteractive(key) {\n",
              "        const element = document.querySelector('#df-71838c9f-658e-445c-afe9-4d3e283e70fa');\n",
              "        const dataTable =\n",
              "          await google.colab.kernel.invokeFunction('convertToInteractive',\n",
              "                                                    [key], {});\n",
              "        if (!dataTable) return;\n",
              "\n",
              "        const docLinkHtml = 'Like what you see? Visit the ' +\n",
              "          '<a target=\"_blank\" href=https://colab.research.google.com/notebooks/data_table.ipynb>data table notebook</a>'\n",
              "          + ' to learn more about interactive tables.';\n",
              "        element.innerHTML = '';\n",
              "        dataTable['output_type'] = 'display_data';\n",
              "        await google.colab.output.renderOutput(dataTable, element);\n",
              "        const docLink = document.createElement('div');\n",
              "        docLink.innerHTML = docLinkHtml;\n",
              "        element.appendChild(docLink);\n",
              "      }\n",
              "    </script>\n",
              "  </div>\n",
              "\n",
              "\n",
              "<div id=\"df-58f5132f-0ba1-45e5-b45a-d53e03651236\">\n",
              "  <button class=\"colab-df-quickchart\" onclick=\"quickchart('df-58f5132f-0ba1-45e5-b45a-d53e03651236')\"\n",
              "            title=\"Suggest charts\"\n",
              "            style=\"display:none;\">\n",
              "\n",
              "<svg xmlns=\"http://www.w3.org/2000/svg\" height=\"24px\"viewBox=\"0 0 24 24\"\n",
              "     width=\"24px\">\n",
              "    <g>\n",
              "        <path d=\"M19 3H5c-1.1 0-2 .9-2 2v14c0 1.1.9 2 2 2h14c1.1 0 2-.9 2-2V5c0-1.1-.9-2-2-2zM9 17H7v-7h2v7zm4 0h-2V7h2v10zm4 0h-2v-4h2v4z\"/>\n",
              "    </g>\n",
              "</svg>\n",
              "  </button>\n",
              "\n",
              "<style>\n",
              "  .colab-df-quickchart {\n",
              "      --bg-color: #E8F0FE;\n",
              "      --fill-color: #1967D2;\n",
              "      --hover-bg-color: #E2EBFA;\n",
              "      --hover-fill-color: #174EA6;\n",
              "      --disabled-fill-color: #AAA;\n",
              "      --disabled-bg-color: #DDD;\n",
              "  }\n",
              "\n",
              "  [theme=dark] .colab-df-quickchart {\n",
              "      --bg-color: #3B4455;\n",
              "      --fill-color: #D2E3FC;\n",
              "      --hover-bg-color: #434B5C;\n",
              "      --hover-fill-color: #FFFFFF;\n",
              "      --disabled-bg-color: #3B4455;\n",
              "      --disabled-fill-color: #666;\n",
              "  }\n",
              "\n",
              "  .colab-df-quickchart {\n",
              "    background-color: var(--bg-color);\n",
              "    border: none;\n",
              "    border-radius: 50%;\n",
              "    cursor: pointer;\n",
              "    display: none;\n",
              "    fill: var(--fill-color);\n",
              "    height: 32px;\n",
              "    padding: 0;\n",
              "    width: 32px;\n",
              "  }\n",
              "\n",
              "  .colab-df-quickchart:hover {\n",
              "    background-color: var(--hover-bg-color);\n",
              "    box-shadow: 0 1px 2px rgba(60, 64, 67, 0.3), 0 1px 3px 1px rgba(60, 64, 67, 0.15);\n",
              "    fill: var(--button-hover-fill-color);\n",
              "  }\n",
              "\n",
              "  .colab-df-quickchart-complete:disabled,\n",
              "  .colab-df-quickchart-complete:disabled:hover {\n",
              "    background-color: var(--disabled-bg-color);\n",
              "    fill: var(--disabled-fill-color);\n",
              "    box-shadow: none;\n",
              "  }\n",
              "\n",
              "  .colab-df-spinner {\n",
              "    border: 2px solid var(--fill-color);\n",
              "    border-color: transparent;\n",
              "    border-bottom-color: var(--fill-color);\n",
              "    animation:\n",
              "      spin 1s steps(1) infinite;\n",
              "  }\n",
              "\n",
              "  @keyframes spin {\n",
              "    0% {\n",
              "      border-color: transparent;\n",
              "      border-bottom-color: var(--fill-color);\n",
              "      border-left-color: var(--fill-color);\n",
              "    }\n",
              "    20% {\n",
              "      border-color: transparent;\n",
              "      border-left-color: var(--fill-color);\n",
              "      border-top-color: var(--fill-color);\n",
              "    }\n",
              "    30% {\n",
              "      border-color: transparent;\n",
              "      border-left-color: var(--fill-color);\n",
              "      border-top-color: var(--fill-color);\n",
              "      border-right-color: var(--fill-color);\n",
              "    }\n",
              "    40% {\n",
              "      border-color: transparent;\n",
              "      border-right-color: var(--fill-color);\n",
              "      border-top-color: var(--fill-color);\n",
              "    }\n",
              "    60% {\n",
              "      border-color: transparent;\n",
              "      border-right-color: var(--fill-color);\n",
              "    }\n",
              "    80% {\n",
              "      border-color: transparent;\n",
              "      border-right-color: var(--fill-color);\n",
              "      border-bottom-color: var(--fill-color);\n",
              "    }\n",
              "    90% {\n",
              "      border-color: transparent;\n",
              "      border-bottom-color: var(--fill-color);\n",
              "    }\n",
              "  }\n",
              "</style>\n",
              "\n",
              "  <script>\n",
              "    async function quickchart(key) {\n",
              "      const quickchartButtonEl =\n",
              "        document.querySelector('#' + key + ' button');\n",
              "      quickchartButtonEl.disabled = true;  // To prevent multiple clicks.\n",
              "      quickchartButtonEl.classList.add('colab-df-spinner');\n",
              "      try {\n",
              "        const charts = await google.colab.kernel.invokeFunction(\n",
              "            'suggestCharts', [key], {});\n",
              "      } catch (error) {\n",
              "        console.error('Error during call to suggestCharts:', error);\n",
              "      }\n",
              "      quickchartButtonEl.classList.remove('colab-df-spinner');\n",
              "      quickchartButtonEl.classList.add('colab-df-quickchart-complete');\n",
              "    }\n",
              "    (() => {\n",
              "      let quickchartButtonEl =\n",
              "        document.querySelector('#df-58f5132f-0ba1-45e5-b45a-d53e03651236 button');\n",
              "      quickchartButtonEl.style.display =\n",
              "        google.colab.kernel.accessAllowed ? 'block' : 'none';\n",
              "    })();\n",
              "  </script>\n",
              "</div>\n",
              "\n",
              "  <div id=\"id_001f00e6-9e44-44c4-a989-a54e06dbff91\">\n",
              "    <style>\n",
              "      .colab-df-generate {\n",
              "        background-color: #E8F0FE;\n",
              "        border: none;\n",
              "        border-radius: 50%;\n",
              "        cursor: pointer;\n",
              "        display: none;\n",
              "        fill: #1967D2;\n",
              "        height: 32px;\n",
              "        padding: 0 0 0 0;\n",
              "        width: 32px;\n",
              "      }\n",
              "\n",
              "      .colab-df-generate:hover {\n",
              "        background-color: #E2EBFA;\n",
              "        box-shadow: 0px 1px 2px rgba(60, 64, 67, 0.3), 0px 1px 3px 1px rgba(60, 64, 67, 0.15);\n",
              "        fill: #174EA6;\n",
              "      }\n",
              "\n",
              "      [theme=dark] .colab-df-generate {\n",
              "        background-color: #3B4455;\n",
              "        fill: #D2E3FC;\n",
              "      }\n",
              "\n",
              "      [theme=dark] .colab-df-generate:hover {\n",
              "        background-color: #434B5C;\n",
              "        box-shadow: 0px 1px 3px 1px rgba(0, 0, 0, 0.15);\n",
              "        filter: drop-shadow(0px 1px 2px rgba(0, 0, 0, 0.3));\n",
              "        fill: #FFFFFF;\n",
              "      }\n",
              "    </style>\n",
              "    <button class=\"colab-df-generate\" onclick=\"generateWithVariable('df')\"\n",
              "            title=\"Generate code using this dataframe.\"\n",
              "            style=\"display:none;\">\n",
              "\n",
              "  <svg xmlns=\"http://www.w3.org/2000/svg\" height=\"24px\"viewBox=\"0 0 24 24\"\n",
              "       width=\"24px\">\n",
              "    <path d=\"M7,19H8.4L18.45,9,17,7.55,7,17.6ZM5,21V16.75L18.45,3.32a2,2,0,0,1,2.83,0l1.4,1.43a1.91,1.91,0,0,1,.58,1.4,1.91,1.91,0,0,1-.58,1.4L9.25,21ZM18.45,9,17,7.55Zm-12,3A5.31,5.31,0,0,0,4.9,8.1,5.31,5.31,0,0,0,1,6.5,5.31,5.31,0,0,0,4.9,4.9,5.31,5.31,0,0,0,6.5,1,5.31,5.31,0,0,0,8.1,4.9,5.31,5.31,0,0,0,12,6.5,5.46,5.46,0,0,0,6.5,12Z\"/>\n",
              "  </svg>\n",
              "    </button>\n",
              "    <script>\n",
              "      (() => {\n",
              "      const buttonEl =\n",
              "        document.querySelector('#id_001f00e6-9e44-44c4-a989-a54e06dbff91 button.colab-df-generate');\n",
              "      buttonEl.style.display =\n",
              "        google.colab.kernel.accessAllowed ? 'block' : 'none';\n",
              "\n",
              "      buttonEl.onclick = () => {\n",
              "        google.colab.notebook.generateWithVariable('df');\n",
              "      }\n",
              "      })();\n",
              "    </script>\n",
              "  </div>\n",
              "\n",
              "    </div>\n",
              "  </div>\n"
            ],
            "application/vnd.google.colaboratory.intrinsic+json": {
              "type": "dataframe",
              "variable_name": "df",
              "summary": "{\n  \"name\": \"df\",\n  \"rows\": 100,\n  \"fields\": [\n    {\n      \"column\": \"Title\",\n      \"properties\": {\n        \"dtype\": \"string\",\n        \"num_unique_values\": 100,\n        \"samples\": [\n          \"Warga Aceh Antusias Saksikan Pertandingan Basket PON XXI Aceh-Sumut\",\n          \"Shin Tae-yong Hadiri Sesi Latihan Timnas Indonesia Amputasi\",\n          \"Menko PMK Pastikan Presiden Hadiri Pembukan PON XXI Aceh-Sumut 2024\"\n        ],\n        \"semantic_type\": \"\",\n        \"description\": \"\"\n      }\n    },\n    {\n      \"column\": \"Date\",\n      \"properties\": {\n        \"dtype\": \"string\",\n        \"num_unique_values\": 100,\n        \"samples\": [\n          \"Gregorius Gelino \\u2022 7 September 2024 12:32\",\n          \"Gregorius Gelino \\u2022 9 September 2024 13:49\",\n          \"Gregorius Gelino \\u2022 8 September 2024 12:28\"\n        ],\n        \"semantic_type\": \"\",\n        \"description\": \"\"\n      }\n    },\n    {\n      \"column\": \"Content\",\n      \"properties\": {\n        \"dtype\": \"string\",\n        \"num_unique_values\": 89,\n        \"samples\": [\n          \"Banda Aceh: Tim panjat tebing Jawa Timur,  Eka Dian Krismawati, Amanda Narda Mutia, dan Nindy Febriyanti sukses meraih medali emas nomor speed relay putri pada Pekan Olahraga Nasional (PON) XXI Aceh-Sumatra Utara di Arena Panjat Tebing, Kompleks Stadion Harapan Bangsa, Banda Aceh, Aceh, Minggu, (8/9) sore.\\n\\nPada pertandingan Eka Dian dkk meraih waktu tercepat, yakni 21,52 detik. Di urutan kedua, kontingen Banten dengan catatan waktu 23,36 detik sehingga meraih medali perak, sedangkan perunggu diraih oleh Jawa Tengah dengan waktu 25,15 detik.\\n\\nPemanjat Jatim Amanda Narda Mutia mengatakan sangat senang bisa mempersembahkan medali emas untuk Jatim. Apalagi, medali emas tersebut yang pertama mereka raih di PON sehingga menjadi kebanggaan tersendiri. \\n\\n\\\"Alhamdulillah pasti senang ya. Tentunya semua berkat doa dari orang tua, teman, pelatih, dan masyarakat Jatim,\\\" kata Amanda.\\n\\nMeski sudah meraih emas, Amanda mengaku mereka belum puas karena masih ada pertandingan-pertandingan lainnya yang juga menargetkan medali emas. Ke depan, Amanda mengaku mereka berharap bisa mengikuti pelatnas untuk Olimpiade 2028.\\n\\nCabang olahraga panjat tebing pada PON XXI Aceh-Sumut mempertandingkan 16 nomor, dan empat di antaranya sudah final, yakni combined (boulder and lead) perorangan putra dan putri, serta speed relay putra dan putri.\\n\\nPertandingan cabang olahraga panjat tebing diikuti sebanyak 26 provinsi yang mengirimkan total 188 atlet, terdiri atas 103 atlet putra dan 85 atlet putri.\",\n          \" Surabaya: Partai final MilkLife Soccer Challenge - Surabaya Series 2 2024 yang tersaji di Stadion Brawijaya Surabaya pada Minggu (9/10) berlangsung kompetitif dengan iklim sportivitas yang tinggi. Tim KU 12 SDN Ketabang 1 A berhasil menjadi juara dengan menaklukan SDN Kalirungkut I-264 B. Sedangkan di sektor KU 10, SDN Pacarkeling V-186 A yang tampil impresif sukses menekuk SDN Manukan Kulon.\\n  Dalam laga pamungkas KU 12, tim SDN Ketabang 1 A dan SDN Kalirungkut I-264 B langsung bermain saling menekan sejak wasit Firman Ramadani meniup peluit tanda kick off babak pertama. Upaya SDN Ketabang IA berbuah manis dengan gol dari sepakan Maulidya Bonita Saputri yang berhasil merebut bola dari kemelut di tengah lapangan di menit kedua.\\n  Tak lama kemudian, rekan setimnya, Rachel Mariza Azara berhasil menambah keunggulan menjadi 2-0. Selanjutnya, di menit ke-7, lagi-lagi Bonita melesatkan tendangan jauh yang mampu menembus celah pertahanan lawan hingga menjebol gawang yang membuat kedudukan menjadi 3-0 dalam waktu singkat.\\n  Ingin mengejar ketertinggalan, SDN Kalirungkut I-264 B akhirnya mampu menembus gawang yang dijaga oleh Kenzi Bramanti Dirgantara. Namun tim SDN Ketabang 1 A mampu membalasnya dengan cepat oleh Rachel yang memanfaatkan lemparan dalam. Kedudukan 4-1 bertahan hingga turun minum.\\n  Usai turun minum, SDN Ketabang 1 A kembali menggunakan skema serangan terbuka. Kerja sama tim dan lini pertahanan yang baik, membuat lawan tak mampu mengejar ketertinggalan skor. Malah Bonita kembali menyumbang dua gol dari penalti yang dihadiahkan wasit buntut pelanggaran yang dilakukan lawan. Gol-gol cantik dari Bonita mampu membawa timnya menjadi kampiun lewat pertandingan yang cukup intens.\\n  \\u201cAku senang banget teman-teman satu tim bisa diajak kerja sama, saling oper bola, saling menjaga. Meski sempat deg-degan sebelum pertandingan, tapi aku berdoa dan meyakinkan teman-teman bakal melewati pertandingan dan menang,\\u201d ucap Bonita yang juga menjadi Top Scorer KU12 dengan mengumpulkan 28 gol.\\n  Sementara itu, pada partai final KU 10, SDN Pacarkeling V-186A langsung melakukan serangan agresif menyasar lini pertahanan SDN Manukan Kulon. Skor kacamata di partai final tak bertahan lama, manakala, punggawa SDN Pacarkeling V-186A, Locita Waranggani Olah Nismara, melesatkan tendangan cantik dari tengah lapangan yang langsung menukik ke gawang lawan. Keunggulan ini membuat Locita dkk terpacu untuk terus menambah poin lewat serangan-serangan menukik yang membuat lini pertahanan lawan kewalahan.\\n  Skuad SDN Pacarkeling V-186A pun kembali menambah keunggulan lewat tendangan bebas yang dihadiahkan wasit Syarif Hidayatullah setelah terjadi pelanggaran handsball di luar kotak penalti. Locita, sebagai algojo pun mampu mengeksekusinya dengan baik dengan gol cantik yang tercipta dari kaki kanannya. Kedudukan 2-0 pun bertahan hingga akhir babak pertama. \\n  Di babak kedua, penjaga gawang SDN Manukan Kulon Bilqis Khairunnisa Salsabila pun jatuh bangun menangkap bola-bola yang dilesatkan para striker SDN Pacarkeling V-186A. Sayangnya peluang gol yang tercipta antara kedua tim masih belum menemui puncaknya hingga wasit meniup peluit panjang tanda berakhirnya babak kedua.\\n  Tangis haru pun pecah dari penggawa SDN Pacarkeling V-186A yang mampu mencapai target \\u2018balas dendam\\u2019 menjadi kampiun KU10 MilkLife Soccer Challenge - Surabaya Series 2 2024. Sebelumnya di series pertama, langkah Locita dkk terhenti di babak semifinal. Tak hanya itu, Locita pun mampu mempertahankan gelar Top Scorer KU10 dengan total 37 gol.\\n  \\u201cAku seneng banget di MilkLife Soccer Challenge - Surabaya Series 2 2022 kita bisa jadi juara. Selama bertanding aku sempat ragu dan takut menghadapi pertandingan tapi aku shalawat sewaktu menendang. Alhamdulillah kita juara. Aku harap temen-temen terus latihan supaya terus bisa jadi juara di series tiga nanti,\\u201d ungkap Locita.\\n  Berkat kemampuan mengolah bola di lapangan hijau,  Locita juga dilirik oleh Badan Liga Sepak Bola Pelajar Indonesia (BLiSPI). Locita bersama dua pemain jebolan MilkLife Soccer Challenge 2024 lainnya, yakni Zian Aisyah Rahmadani dan Adinda Resti Widayati masuk dalam skuad Indonesia untuk bermain di ajang Universal Youth Cup U12 di China pada bulan Agustus lalu. Locita bercerita, pertandingan internasional pertamanya itu sangat berkesan dengan membawa nama Indonesia di pundaknya.\\n  Antuasiasme Terhadap Sepak Bola Putri Terus Meningkat\\n  Penyelenggaraan MilkLife Soccer Challenge Surabaya Series 2 menorehkan catatan apik dari sisi peserta yang berpartisipasi di lapangan hijau. Sebanyak 1.476 siswi dari 61 Madrasah Ibtidaiyah (MI) dan Sekolah Dasar (SD) dari Kota Pahlawan dan sekitarnya ambil bagian dalam turnamen sepak bola putri yang berlangsung di Lapangan Marinir Bogowonto dan Stadion Brawijaya Kodam V pada 4 September hingga 8 September tersebut.\\n  Jumlah ini meningkat lebih dari dua kali lipat dibanding penyelenggaraan MilkLife Soccer Challenge - Surabaya Series 1 2024, Mei lalu. Kala itu, di Series 1, terdapat 631 peserta yang berasal dari 33 MI dan SD dengan total 58 tim yang bertanding di lapangan hijau.\\n  Program Director MilkLife Soccer Challenge, Teddy Tjahjono, menuturkan meningkatnya antusiasme para siswi MI dan SD dalam gelaran MilkLife Soccer Challenge Surabaya Series 2 ini diharapkan dapat menjadi langkah awal bagi kebangkitan sepak bola putri di Indonesia, khususnya di level akar rumput. Ia juga berharap, tingginya jumlah peserta tidak hanya terjadi di Kota Pahlawan, tetapi juga di kota-kota penyelenggaraan MilkLife Soccer Challenge lainnya.\\n  \\u201cTorehan partisipasi peserta MilkLife Soccer Challenge Surabaya Series 2 ini menumbuhkan rasa optimistis bahwa sepak bola putri akan bangkit dan bakat-bakat pesepakbola putri berkualitas akan bermunculan. Selain Surabaya, kami berharap hal ini juga terjadi di kota-kota lainnya agar impian kita melihat Timnas Putri Indonesia bisa bangkit dan berjaya di panggung internasional,\\u201d bilang Teddy.\\n  Untuk itu, tidak hanya bertumpu pada pemassalan di KU 10 dan KU 12 semata, di masa mendatang diharapkan akan lebih banyak kompetisi di level kelompok usia berikutnya sebagai upaya pembinaan atlet muda. \\n  \\u201cDengan adanya turnamen sepak bola putri sebagai wadah mereka di  berbagai jenjang usia, pasti akan memacu untuk terus berlatih karena mereka sudah punya target tertentu yang berkesinambungan. Kami yakin upaya ini akan selaras untuk mengambil kans besar dunia sepak bola putri Indonesia di mata dunia,\\u201d ia menjelaskan. \\n  Disamping itu, menyambut peringatan Hari Olahraga Nasional yang jatuh pada 9 September, Teddy juga menaruh harapan agar penyelenggaraan MilkLife Soccer Challenge dapat menjadi dorongan bagi masyarakat untuk mulai menggemari olahraga. Khusus bagi usia dini, olahraga memiliki peran penting terhadap perkembangan kecerdasan sosial dan emosional para peserta.\\n  \\u201cDi balik manfaat kebugaran fisik yang didapat, olahraga juga memiliki nilai-nilai penting yang membangun kecerdasan sosial dan emosional mulai dari kerja keras, disiplin, kredibilitas dan integritas baik kepada tim, pelatih serta stakeholder. Ini merupakan bekal yang sangat bermanfaat ketika mereka dewasa nanti. Sehingga melalui MilkLife Soccer Challenge ini kami mendorong para orangtua untuk memberi dukungan penuh kepada buah hatinya untuk menggeluti olahraga,\\u201d tandas Teddy.\\n  Peningkatan pertumbuhan anak berkat olahraga pun diamati oleh Susan Retnowati, orang tua Nadine Faranissa Sugianto, pemain depan tim KU 12 SDN Dr. Sutomo V-327 Surabaya. Nadine sudah ambil bagian sejak MilkLife Soccer Challenge Surabaya Series 1. Semenjak rajin mengolah si kulit bundar, Susan mengungkapkan sang putri memiliki fisik yang lebih bugar dan mampu mengontrol emosi dengan baik.\\n  \\u201cSetelah pengalamannya ikut di MilkLife Soccer Challenge - Surabaya Series 1 kemarin, Nadine jadi memiliki rasa optimis, jiwa kompetitif dan semangat yang tinggi. Bahkan dia minta untuk dimasukkan ke sekolah sepak bola demi mempersiapkan performanya di series 2 ini,\\u201d ucap Susan.\\n  Sang ibu pun mendukung penuh minat dan bakat Nadine yang bercita-cita untuk menjadi penggawa timnas putri Indonesia. Aktif berolahraga juga memberikan efek yang positif terhadap perkembangan anak. Selain membuat anak lebih disiplin, kegiatan olahraga juga mampu mengalihkan perhatian anak dari gawai.\\n  \\u201cDengan berolahraga apalagi ada turnamen sepak bola putri ini, bisa melatih kerja sama dan sportivitas. Jadi daripada ketergantungan gawai, anak-anak bisa lebih bersosialisasi, bertemu dengan teman sebaya, bisa nambah teman,\\u201d pungkas Susan.\\n  Berikut daftar pemenang MilkLife Soccer Challenge \\u2013 Surabaya Series 2 2024: Kategori Usia 10 Juara: SDN Pacarkeling V-186 A Runner-up: SDN Manukan Kulon Semifinalis: SDN Klampis Ngasem 1 dan SDN Wiyung I-453 Top Scorer: Locita Waranggani Olah Nismara - SDN Pacarkeling V-186 A Best Player: Bilqis Nur Hidayah - SDN Klampis Ngasem 1 Best Goalkeeper: Bilqis Khairunnisa Salsabila - SDN Manukan Kulon Fairplay Team: SDN Wiyung I-453 Kategori Usia 12 Juara: SDN Ketabang 1 A Runner-up: SDN Kalirungkut I-264 B Semifinalis: SDN Sawahan IV-343 A dan SDN Manukan Kulon II/499 Top Scorer: Maulidya Bonita Saputri - SDN Ketabang 1 A Best Player: Alika Nayla Putri Jabbar - SDN Manukan Kulon II/499 Best Goalkeeper: Kenzi Bramanti Dirgantara - SDN Ketabang 1 A Fairplay Team: SDN Manukan Kulon II/499 \",\n          \"Jakarta: Telur asin yang berasal dari Desa Sujung, Kabupaten Serang, Banten, telah lama menjadi primadona. Di balik kelezatannya, terdapat kisah sukses dari sebuah inisiatif yang bernama Klaster Telur Asin Abinisa di Desa Sujung. \\n\\nKlaster ini telah berhasil meningkatkan kapasitas usaha masyarakat dan memperkuat kerja sama antar pelaku usaha. Berkat klaster ini, para pembuat telur asin kini dapat memproduksi produk dengan kualitas yang lebih baik dan jumlah yang lebih banyak. Selain itu, mereka juga memiliki akses pasar yang lebih luas, baik lokal maupun nasional. Hal ini tentu saja berdampak positif pada peningkatan pendapatan dan kesejahteraan masyarakat Desa Sujung.\\n\\nKlaster Telur Asin Abinisa dibentuk sejak tahun 2018. Usaha tersebut awalnya fokus pada produksi telur asin. Namun setelah setahun berjalan, usaha ini mengembangkan produk baru yaitu egg roll. Selain egg roll, usaha tersebut juga memiliki produk unggulan lain seperti salted egg dan telur asin omega.\\n  \"\n        ],\n        \"semantic_type\": \"\",\n        \"description\": \"\"\n      }\n    },\n    {\n      \"column\": \"Category\",\n      \"properties\": {\n        \"dtype\": \"category\",\n        \"num_unique_values\": 2,\n        \"samples\": [\n          \"Olahraga\",\n          \"Ekonomi\"\n        ],\n        \"semantic_type\": \"\",\n        \"description\": \"\"\n      }\n    }\n  ]\n}"
            }
          },
          "metadata": {},
          "execution_count": 8
        }
      ]
    }
  ]
}